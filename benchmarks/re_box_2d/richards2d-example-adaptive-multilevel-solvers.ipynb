{
 "metadata": {
  "name": "",
  "signature": "sha256:618bd7b89925367e9c8effa85ce4679e2591ef1f38d57d16fec40c4f9cfbe7e1"
 },
 "nbformat": 3,
 "nbformat_minor": 0,
 "worksheets": [
  {
   "cells": [
    {
     "cell_type": "markdown",
     "metadata": {
      "slideshow": {
       "slide_type": "slide"
      }
     },
     "source": [
      "# Richards Equation Model with an adaptive Multilevel Mesh\n",
      "\n"
     ]
    },
    {
     "cell_type": "code",
     "collapsed": false,
     "input": [
      "%matplotlib inline\n",
      "from proteus.iproteus import * \n",
      "import numpy as np"
     ],
     "language": "python",
     "metadata": {
      "slideshow": {
       "slide_type": "fragment"
      }
     },
     "outputs": []
    },
    {
     "cell_type": "markdown",
     "metadata": {
      "slideshow": {
       "slide_type": "slide"
      }
     },
     "source": [
      "# Defining the Richards equation (not done)\n",
      "We would like to solve a steady-state version of Richards equation\n",
      "\\begin{equation}\n",
      "-\\nabla \\cdot \\left[k_rK_s \\left(\\nabla \\psi - \\rho \\vec g_u \\right)\\right] + r = 0\n",
      "\\end{equation}\n",
      "where $\\psi$ is the pressure head [L], and the relative permeability $k_r = k_r(\\psi)$ via the van Genuchten Mualem $p-s-k$ relationship. \n",
      "\n"
     ]
    },
    {
     "cell_type": "markdown",
     "metadata": {
      "slideshow": {
       "slide_type": "slide"
      }
     },
     "source": [
      "# Physics\n",
      "\n",
      "Next, we specify the information needed for the boundary value problem. "
     ]
    },
    {
     "cell_type": "code",
     "collapsed": false,
     "input": [
      "import re_vgm_sand_10x10m_ss_2d_p as p\n",
      "p.name='Test_me'"
     ],
     "language": "python",
     "metadata": {},
     "outputs": []
    },
    {
     "cell_type": "markdown",
     "metadata": {
      "slideshow": {
       "slide_type": "slide"
      }
     },
     "source": [
      "# Numerics\n",
      "\n",
      "As before, we move next to the specifying the numerical methods we want to use."
     ]
    },
    {
     "cell_type": "code",
     "collapsed": false,
     "input": [
      "import re_vgm_sand_10x10m_ss_2d_c0p1_n as n\n",
      "n.nn=17\n",
      "n.nLevels=1"
     ],
     "language": "python",
     "metadata": {},
     "outputs": []
    },
    {
     "cell_type": "markdown",
     "metadata": {
      "slideshow": {
       "slide_type": "fragment"
      }
     },
     "source": [
      "## Linear Solvers \n",
      "\n",
      "For now, we won't take advantage of the mesh hierarchy in the linear solvers unless we use the `MGM` flag. "
     ]
    },
    {
     "cell_type": "code",
     "collapsed": false,
     "input": [
      "from proteus import LinearAlgebraTools,LinearSolvers\n",
      "#matrix type\n",
      "n.matrix = LinearAlgebraTools.SparseMatrix\n",
      "solver_options = ['petsc','LU','MGM']\n",
      "solver_flag = 'LU'\n",
      "if solver_flag == 'petsc':\n",
      "    #use petsc solvers wrapped by petsc4py\n",
      "    n.multilevelLinearSolver = LinearSolvers.KSP_petsc4py\n",
      "    n.levelLinearSolver = LinearSolvers.KSP_petsc4py\n",
      "    #using petsc4py requires weak boundary condition enforcement\n",
      "    n.numericalFluxType = NumericalFlux.Diffusion_IIPG_exterior\n",
      "    ##this is waiting on a pull request\n",
      "    #n.numericalFluxType = NumericalFlux.Diffusion_SIPG_exterior\n",
      "elif solver_flag == 'MGM':\n",
      "    #Multigrid W cycle\n",
      "    n.multilevelLinearSolver = LinearSolvers.MGM\n",
      "    n.levelLinearSolver = LinearSolvers.TwoLevel\n",
      "    n.linearSmoother = LinearSolvers.Jacobi\n",
      "else:\n",
      "    #use petsc solvers wrapped by petsc4py\n",
      "    n.multilevelLinearSolver = LinearSolvers.LU\n",
      "    n.levelLinearSolver = LinearSolvers.LU\n",
      "    \n",
      "#linear solve rtolerance\n",
      "n.l_atol_res = 1.0e-8\n",
      "n.periodicDirichletConditions = None"
     ],
     "language": "python",
     "metadata": {
      "slideshow": {
       "slide_type": "fragment"
      }
     },
     "outputs": []
    },
    {
     "cell_type": "code",
     "collapsed": false,
     "input": [
      "#set ksp options\n",
      "if solver_flag == 'petsc':\n",
      "    from petsc4py import PETSc\n",
      "    OptDB = PETSc.Options()\n",
      "    OptDB.setValue('ksp_type','bcgsl')\n",
      "    OptDB.setValue('pc_type','asm')\n",
      "    OptDB.setValue('pc_asm_type','restrict')\n",
      "    OptDB.setValue('pc_asm_overlap','2')\n",
      "    ###How it would call a direct solver through PETSc\n",
      "    #OptDB.setValue('ksp_type','preonly')\n",
      "    #OptDB.setValue('pc_type','lu')\n",
      "    #OptDB.setValue('pc_factor_mat_solver_package','superlu_dist')\n",
      "    #OptDB.setValue('ksp_atol','%s' % n.l_atol_res)\n",
      "    #OptDB.setValue('ksp_rtol','0.0')\n"
     ],
     "language": "python",
     "metadata": {
      "slideshow": {
       "slide_type": "fragment"
      }
     },
     "outputs": []
    },
    {
     "cell_type": "markdown",
     "metadata": {
      "slideshow": {
       "slide_type": "slide"
      }
     },
     "source": [
      "# Operator Splitting\n",
      "\n",
      "We use default operator splitting since we only have one model to solve."
     ]
    },
    {
     "cell_type": "code",
     "collapsed": false,
     "input": [
      "from proteus import default_s,default_so\n",
      "so = default_so\n",
      "so.name = p.name \n",
      "so.sList=[default_s]\n",
      "#steady state so just compute the value for one 'time level'\n",
      "so.tnList = [0.0,p.T]"
     ],
     "language": "python",
     "metadata": {
      "slideshow": {
       "slide_type": "fragment"
      }
     },
     "outputs": []
    },
    {
     "cell_type": "markdown",
     "metadata": {
      "slideshow": {
       "slide_type": "slide"
      }
     },
     "source": [
      "# Postprocessing Tools\n",
      "\n",
      "Since we have an analytical solution, we can ask proteus to compute errors during the simulation."
     ]
    },
    {
     "cell_type": "code",
     "collapsed": false,
     "input": [
      "simulation_flags = {}\n",
      "#compute the error in the approximate solution\n",
      "simulation_flags['errorQuantities']=['u']\n",
      "simulation_flags['errorTypes'] = ['numericalSolution']\n",
      "#try using L^2,L^1 norms, H^1 would requires an analytical solution with duOfX defined\n",
      "simulation_flags['errorNorms'] = ['L2','L1']\n",
      "#only compute the error at the last time step\n",
      "simulation_flags['errorTimes']=['Last']\n"
     ],
     "language": "python",
     "metadata": {
      "slideshow": {
       "slide_type": "fragment"
      }
     },
     "outputs": []
    },
    {
     "cell_type": "code",
     "collapsed": false,
     "input": [
      "def estimate_L2_error_from_ref(u,uref,dV):\n",
      "    \"\"\"\n",
      "    Estimate the L2 error in u using a reference solution uref and\n",
      "    quadrature weights dV\n",
      "    \n",
      "    returns total error, element-wise error, total domain area, and element area\n",
      "    \"\"\"\n",
      "    diff_quad = u-uref\n",
      "    L2_elem_err = np.zeros((diff_quad.shape[0]),'d')\n",
      "    int_diff    = dV*(diff_quad**2)\n",
      "    L2_elem_err = np.sum(int_diff,axis=1)\n",
      "    L2_elem_err = np.sqrt(L2_elem_err)\n",
      "    element_area= np.sum(dV,axis=1)\n",
      "    total_area  = np.sum(element_area)\n",
      "    total_error = np.sum(L2_elem_err)/total_area\n",
      "\n",
      "    return total_error,L2_elem_err,total_area,element_area"
     ],
     "language": "python",
     "metadata": {},
     "outputs": []
    },
    {
     "cell_type": "code",
     "collapsed": false,
     "input": [
      "def tag_region(mesh,region):\n",
      "    tag_array = np.zeros((mesh.nElements_global,),'i')\n",
      "    tag_array[((region[0][0] <= mesh.elementBarycentersArray[:,0]) &\n",
      "              (region[0][1] >= mesh.elementBarycentersArray[:,0])) &\n",
      "              ((region[1][0] <= mesh.elementBarycentersArray[:,1]) &\n",
      "               (region[1][1] >= mesh.elementBarycentersArray[:,1]))] = True\n",
      "    return tag_array"
     ],
     "language": "python",
     "metadata": {},
     "outputs": []
    },
    {
     "cell_type": "markdown",
     "metadata": {},
     "source": [
      "#Start the main adaptive loop\n",
      "\n",
      "1. Initialize Numerical Solution Object\n",
      "\n",
      "2. Calculate the solution\n",
      "\n",
      "3. estimate the error\n",
      "\n",
      "4. tag elements with error above some threshold\n",
      "\n",
      "5. refine the mesh and repeat"
     ]
    },
    {
     "cell_type": "code",
     "collapsed": false,
     "input": [
      "total_error = 1.0e12\n",
      "max_levels = 4\n",
      "target_tol  = 0.0004\n",
      "nlevel_ref = 0\n",
      "while total_error > target_tol and nlevel_ref < max_levels: \n",
      "    print \"Starting level {0}\".format(nlevel_ref)\n",
      "    #update nlevels if actually solving for next level\n",
      "    if 'mlMesh' in dir(n) and 'nLevels' in dir(n.mlMesh):\n",
      "        n.nLevels= n.mlMesh.nLevels\n",
      "    #initialize the solution\n",
      "    ns = NumericalSolution.NS_base(so,[p],[n],so.sList,opts,simFlagsList=[simulation_flags])\n",
      "    #calculate the solution\n",
      "    failed = ns.calculateSolution('re_run1')\n",
      "    #assert(not failed)\n",
      "    #estimate the error\n",
      "    #tag elements above a threshold\n",
      "    #tag_array = np.where(L2_elem_err > target_tol/float(len(element_area)),1,0)\n",
      "    #tag a specified region\n",
      "    ref_region = [[0.,p.L[0]],[4.,6.]]\n",
      "    tag_array = tag_region(ns.modelList[0].levelModelList[-1].mesh,ref_region)\n",
      "    #perform local refinement\n",
      "    ns.modelList[0].mlMeshSave.locallyRefine(tag_array,0)\n",
      "    #update numerics file so that it will use mlMesh next\n",
      "    n.mlMesh = ns.modelList[0].mlMeshSave\n",
      "    nlevel_ref += 1"
     ],
     "language": "python",
     "metadata": {
      "slideshow": {
       "slide_type": "fragment"
      }
     },
     "outputs": []
    },
    {
     "cell_type": "markdown",
     "metadata": {
      "slideshow": {
       "slide_type": "slide"
      }
     },
     "source": [
      "# Postprocess The Solution"
     ]
    },
    {
     "cell_type": "markdown",
     "metadata": {
      "slideshow": {
       "slide_type": "fragment"
      }
     },
     "source": [
      "### The computational mesh\n",
      "\n",
      "Here we extract some of the proteus data structures to use with matplotlib's unstructured plotting in pylab. We'll look at the solution on the coarse and finest meshes."
     ]
    },
    {
     "cell_type": "code",
     "collapsed": false,
     "input": [
      "import pylab\n",
      "#coarsest mesh\n",
      "x_c = ns.modelList[0].levelModelList[0].mesh.nodeArray[:,0]\n",
      "y_c = ns.modelList[0].levelModelList[0].mesh.nodeArray[:,1]\n",
      "triangles_c = ns.modelList[0].levelModelList[0].mesh.elementNodesArray\n",
      "#finest mesh\n",
      "x = ns.modelList[0].levelModelList[-1].mesh.nodeArray[:,0]\n",
      "y = ns.modelList[0].levelModelList[-1].mesh.nodeArray[:,1]\n",
      "triangles = ns.modelList[0].levelModelList[-1].mesh.elementNodesArray\n"
     ],
     "language": "python",
     "metadata": {
      "slideshow": {
       "slide_type": "fragment"
      }
     },
     "outputs": []
    },
    {
     "cell_type": "code",
     "collapsed": false,
     "input": [
      "import matplotlib.pyplot as plt\n",
      "pylab.triplot(x_c,y_c,triangles_c)\n",
      "plt.xlabel('x'); plt.ylabel('y')\n",
      "plt.title('coarse computational mesh');\n",
      "pylab.show()"
     ],
     "language": "python",
     "metadata": {
      "slideshow": {
       "slide_type": "slide"
      }
     },
     "outputs": []
    },
    {
     "cell_type": "code",
     "collapsed": false,
     "input": [
      "pylab.triplot(x,y,triangles)\n",
      "plt.xlabel('x'); plt.ylabel('y')\n",
      "plt.title('fine computational mesh');\n",
      "pylab.show()"
     ],
     "language": "python",
     "metadata": {
      "slideshow": {
       "slide_type": "slide"
      }
     },
     "outputs": []
    },
    {
     "cell_type": "markdown",
     "metadata": {
      "slideshow": {
       "slide_type": "slide"
      }
     },
     "source": [
      "### Coarse numerical solution"
     ]
    },
    {
     "cell_type": "code",
     "collapsed": false,
     "input": [
      "if isinstance(ns.modelList[0].levelModelList[0].u[0].femSpace,FemTools.C0_AffineLinearOnSimplexWithNodalBasis):\n",
      "    u_c = ns.modelList[0].levelModelList[0].u[0].dof\n",
      "    pylab.tricontourf(x_c,y_c,triangles_c,u_c)\n",
      "    plt.xlabel('x'); plt.ylabel('y')\n",
      "    plt.title('numerical solution on coarsest mesh'); plt.colorbar()\n",
      "    pylab.show()"
     ],
     "language": "python",
     "metadata": {
      "slideshow": {
       "slide_type": "fragment"
      }
     },
     "outputs": []
    },
    {
     "cell_type": "markdown",
     "metadata": {
      "slideshow": {
       "slide_type": "slide"
      }
     },
     "source": [
      "### Fine numerical solution"
     ]
    },
    {
     "cell_type": "code",
     "collapsed": false,
     "input": [
      "if isinstance(ns.modelList[0].levelModelList[0].u[0].femSpace,FemTools.C0_AffineLinearOnSimplexWithNodalBasis):\n",
      "    u = ns.modelList[0].levelModelList[-1].u[0].dof\n",
      "    pylab.tricontourf(x,y,triangles,u)\n",
      "    plt.xlabel('x'); plt.ylabel('y')\n",
      "    plt.title('numerical solution'); plt.colorbar()\n",
      "    pylab.show()"
     ],
     "language": "python",
     "metadata": {
      "slideshow": {
       "slide_type": "fragment"
      }
     },
     "outputs": []
    },
    {
     "cell_type": "code",
     "collapsed": false,
     "input": [
      "def compute_volume_fraction(physics,psi):\n",
      "    \"\"\"\n",
      "    compute volume fraction using van Genuchten Mualem\n",
      "    \"\"\"\n",
      "    n = physics.mvg_m ; alpha = physics.mvg_alpha; m = physics.mvg_m\n",
      "    thetaS = physics.thetaS; thetaR = physics.thetaR\n",
      "    \n",
      "    psiC = np.where(psi < 0.,-psi,0.0)  \n",
      "    pcBar = alpha*psiC\n",
      "    pcBar_nM2 = np.where(pcBar > 0,np.power(pcBar,n-2),0.0)\n",
      "    pcBar_nM1 = pcBar_nM2*pcBar\n",
      "    pcBar_n   = pcBar_nM1*pcBar\n",
      "    onePlus_pcBar_n = 1.0 + pcBar_n\n",
      "          \n",
      "    sBar = np.power(onePlus_pcBar_n,-m)\n",
      "    thetaW = (thetaS-thetaR)*sBar + thetaR\n",
      "    return thetaW"
     ],
     "language": "python",
     "metadata": {},
     "outputs": []
    },
    {
     "cell_type": "code",
     "collapsed": false,
     "input": [
      "thetaW_f = compute_volume_fraction(p,ns.modelList[0].levelModelList[-1].u[0].dof)"
     ],
     "language": "python",
     "metadata": {},
     "outputs": []
    },
    {
     "cell_type": "code",
     "collapsed": false,
     "input": [
      "if isinstance(ns.modelList[0].levelModelList[0].u[0].femSpace,FemTools.C0_AffineLinearOnSimplexWithNodalBasis):\n",
      "    pylab.tricontourf(x,y,triangles,thetaW_f)\n",
      "    plt.xlabel('x'); plt.ylabel('y')\n",
      "    plt.title('numerical solution'); plt.colorbar()\n",
      "    pylab.show()"
     ],
     "language": "python",
     "metadata": {},
     "outputs": []
    },
    {
     "cell_type": "code",
     "collapsed": false,
     "input": [],
     "language": "python",
     "metadata": {},
     "outputs": []
    }
   ],
   "metadata": {}
  }
 ]
}